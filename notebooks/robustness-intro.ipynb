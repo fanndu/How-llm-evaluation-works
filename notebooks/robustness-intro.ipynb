{
  "cells": [
    {
      "cell_type": "raw",
      "metadata": {
        "vscode": {
          "languageId": "raw"
        }
      },
      "source": [
        "# LLM鲁棒性评估入门\n",
        "\n",
        "本笔记本介绍如何评估大型语言模型(LLM)的鲁棒性。我们将探索：\n",
        "\n",
        "- 什么是鲁棒性测试\n",
        "- 如何设计有效的扰动策略\n",
        "- 评估指标和方法\n",
        "- 实际案例演示\n",
        "\n",
        "## 目标\n",
        "\n",
        "通过本笔记本，您将学会：\n",
        "1. 理解LLM鲁棒性的重要性\n",
        "2. 掌握常见的鲁棒性测试方法\n",
        "3. 实施并分析鲁棒性测试结果\n"
      ]
    },
    {
      "cell_type": "raw",
      "metadata": {
        "vscode": {
          "languageId": "raw"
        }
      },
      "source": [
        "这是一个鲁棒性测试样例"
      ]
    },
    {
      "cell_type": "code",
      "execution_count": 2,
      "metadata": {},
      "outputs": [
        {
          "name": "stdout",
          "output_type": "stream",
          "text": [
            "输入：中国的首都是哪里？\n",
            "输出：中国的首都是北京。\n",
            "\n",
            "输入：中国的首都是哪裡？\n",
            "输出：中国的首都是北京。\n",
            "\n",
            "输入：中国 的首都是哪里？\n",
            "输出：中国的首都是北京。\n",
            "\n",
            "输入：中国的首都是那里？\n",
            "输出：中国的首都是北京。\n",
            "\n",
            "输入：中国的首都是哪？\n",
            "输出：中国的首都是北京。\n",
            "\n",
            "输入：中国的capital是哪？\n",
            "输出：中国的首都，也就是政治中心是北京。而经济中心则是上海。\n",
            "\n",
            "输入：中国的首府是哪里？\n",
            "输出：中国的首都为北京。\n",
            "\n",
            "输入：Where is the capital of China?\n",
            "输出：The capital of China is Beijing.\n",
            "\n"
          ]
        }
      ],
      "source": [
        "import torch\n",
        "from transformers import AutoModelForCausalLM, AutoTokenizer\n",
        "from transformers.generation.utils import GenerationConfig\n",
        "\n",
        "model_name = \"baichuan-inc/Baichuan2-7B-Chat\"\n",
        "\n",
        "tokenizer = AutoTokenizer.from_pretrained(model_name, use_fast=False, trust_remote_code=True)\n",
        "model = AutoModelForCausalLM.from_pretrained(model_name, device_map=\"auto\", torch_dtype=torch.bfloat16, trust_remote_code=True)\n",
        "model.generation_config = GenerationConfig.from_pretrained(model_name)\n",
        "\n",
        "prompts = [\n",
        "    \"中国的首都是哪里？\",\n",
        "    \"中国的首都是哪裡？\",\n",
        "    \"中国 的首都是哪里？\",\n",
        "    \"中国的首都是那里？\",\n",
        "    \"中国的首都是哪？\",\n",
        "    \"中国的capital是哪？\",\n",
        "    \"中国的首府是哪里？\",\n",
        "    \"Where is the capital of China?\",\n",
        "]\n",
        "\n",
        "for prompt in prompts:\n",
        "    messages = []\n",
        "    messages.append({\"role\": \"user\", \"content\": prompt})\n",
        "    response = model.chat(tokenizer, messages)\n",
        "    print(f\"输入：{prompt}\\n输出：{response.strip()}\\n\")"
      ]
    },
    {
      "cell_type": "markdown",
      "metadata": {},
      "source": [
        "SQuAD2.0是斯坦福问答数据集（Stanford Question Answering Dataset），它是在 1.0是斯坦福大学发布的一个广泛用于机器阅读理解与问答（Question Answering, QA）研究的标准数据集。SQuAD v2 是 SQuAD v1.1 的升级版本，专门用于评估模型“在自然文本中寻找答案”的能力，以及判断“问题是否无法回答”的鲁棒性。数据集中的全部问题均基于英文维基百科文章，由人工编写。SQuAD v2 与 v1.1 最大的区别是引入了大量“无答案”问题，使模型不仅要抽取答案，还要判断问题是否可解，这极大提升了任务难度和鲁棒性评测价值。"
      ]
    },
    {
      "cell_type": "code",
      "execution_count": 9,
      "metadata": {},
      "outputs": [
        {
          "name": "stdout",
          "output_type": "stream",
          "text": [
            "SQuAD v2 训练集样本数: 130319\n",
            "SQuAD v2 验证集样本数: 11873\n"
          ]
        },
        {
          "data": {
            "text/plain": [
              "{'id': '56be85543aeaaa14008c9063',\n",
              " 'title': 'Beyoncé',\n",
              " 'context': 'Beyoncé Giselle Knowles-Carter (/biːˈjɒnseɪ/ bee-YON-say) (born September 4, 1981) is an American singer, songwriter, record producer and actress. Born and raised in Houston, Texas, she performed in various singing and dancing competitions as a child, and rose to fame in the late 1990s as lead singer of R&B girl-group Destiny\\'s Child. Managed by her father, Mathew Knowles, the group became one of the world\\'s best-selling girl groups of all time. Their hiatus saw the release of Beyoncé\\'s debut album, Dangerously in Love (2003), which established her as a solo artist worldwide, earned five Grammy Awards and featured the Billboard Hot 100 number-one singles \"Crazy in Love\" and \"Baby Boy\".',\n",
              " 'question': 'When did Beyonce start becoming popular?',\n",
              " 'answers': {'text': ['in the late 1990s'], 'answer_start': [269]}}"
            ]
          },
          "execution_count": 9,
          "metadata": {},
          "output_type": "execute_result"
        }
      ],
      "source": [
        "from datasets import load_dataset\n",
        "import random\n",
        "import pandas as pd\n",
        "\n",
        "# 加载 SQuAD v2 数据集\n",
        "dataset = load_dataset(\"squad_v2\")\n",
        "\n",
        "# 1. 展示数据规模\n",
        "train_size = len(dataset[\"train\"])\n",
        "val_size = len(dataset[\"validation\"])\n",
        "\n",
        "print(f\"SQuAD v2 训练集样本数: {train_size}\")\n",
        "print(f\"SQuAD v2 验证集样本数: {val_size}\")\n",
        "\n",
        "# 2. 展示一个数据样例，并介绍结构\n",
        "sample = dataset[\"train\"][0]\n",
        "sample\n"
      ]
    },
    {
      "cell_type": "markdown",
      "metadata": {},
      "source": [
        "为了直观展示SQuAD v2数据集的结构，我们展示一个数据样例，并介绍数据集的结构。"
      ]
    },
    {
      "cell_type": "code",
      "execution_count": 11,
      "metadata": {},
      "outputs": [
        {
          "data": {
            "text/html": [
              "<div>\n",
              "<style scoped>\n",
              "    .dataframe tbody tr th:only-of-type {\n",
              "        vertical-align: middle;\n",
              "    }\n",
              "\n",
              "    .dataframe tbody tr th {\n",
              "        vertical-align: top;\n",
              "    }\n",
              "\n",
              "    .dataframe thead th {\n",
              "        text-align: right;\n",
              "    }\n",
              "</style>\n",
              "<table border=\"1\" class=\"dataframe\">\n",
              "  <thead>\n",
              "    <tr style=\"text-align: right;\">\n",
              "      <th></th>\n",
              "      <th>title</th>\n",
              "      <th>context</th>\n",
              "      <th>question</th>\n",
              "      <th>answers_text</th>\n",
              "      <th>answers_start</th>\n",
              "      <th>id</th>\n",
              "    </tr>\n",
              "  </thead>\n",
              "  <tbody>\n",
              "    <tr>\n",
              "      <th>0</th>\n",
              "      <td>Beyoncé</td>\n",
              "      <td>Beyoncé Giselle Knowles-Carter (/biːˈjɒnseɪ/ b...</td>\n",
              "      <td>When did Beyonce start becoming popular?</td>\n",
              "      <td>[in the late 1990s]</td>\n",
              "      <td>[269]</td>\n",
              "      <td>56be85543aeaaa14008c9063</td>\n",
              "    </tr>\n",
              "  </tbody>\n",
              "</table>\n",
              "</div>"
            ],
            "text/plain": [
              "     title                                            context  \\\n",
              "0  Beyoncé  Beyoncé Giselle Knowles-Carter (/biːˈjɒnseɪ/ b...   \n",
              "\n",
              "                                   question         answers_text  \\\n",
              "0  When did Beyonce start becoming popular?  [in the late 1990s]   \n",
              "\n",
              "  answers_start                        id  \n",
              "0         [269]  56be85543aeaaa14008c9063  "
            ]
          },
          "metadata": {},
          "output_type": "display_data"
        },
        {
          "name": "stdout",
          "output_type": "stream",
          "text": [
            "\n",
            "数据样例结构说明：\n",
            "title          ：维基百科文章标题\n",
            "context        ：一段来自维基百科的上下文文本\n",
            "question       ：与该段上下文相关的自然语言提问\n",
            "answers_text   ：标准答案，可能为包含在context中的文本片段；如该问题无答案，则为空列表\n",
            "answers_start  ：答案在context中起始字符位置列表\n",
            "id             ：每条样本的唯一标识符\n"
          ]
        }
      ],
      "source": [
        "# 转成 DataFrame 展示更直观\n",
        "df = pd.DataFrame({\n",
        "    \"title\": [sample[\"title\"]],\n",
        "    \"context\": [sample[\"context\"]],\n",
        "    \"question\": [sample[\"question\"]],\n",
        "    \"answers_text\": [sample[\"answers\"][\"text\"]],\n",
        "    \"answers_start\": [sample[\"answers\"][\"answer_start\"]],\n",
        "    \"id\": [sample[\"id\"]]\n",
        "})\n",
        "display(df)\n",
        "\n",
        "# 3. 对数据样例结构的说明\n",
        "print(\"\\n数据样例结构说明：\")\n",
        "print(\"title          ：维基百科文章标题\")\n",
        "print(\"context        ：一段来自维基百科的上下文文本\")\n",
        "print(\"question       ：与该段上下文相关的自然语言提问\")\n",
        "print(\"answers_text   ：标准答案，可能为包含在context中的文本片段；如该问题无答案，则为空列表\")\n",
        "print(\"answers_start  ：答案在context中起始字符位置列表\")\n",
        "print(\"id             ：每条样本的唯一标识符\")"
      ]
    }
  ],
  "metadata": {
    "kernelspec": {
      "display_name": "Python 3",
      "language": "python",
      "name": "python3"
    },
    "language_info": {
      "codemirror_mode": {
        "name": "ipython",
        "version": 3
      },
      "file_extension": ".py",
      "mimetype": "text/x-python",
      "name": "python",
      "nbconvert_exporter": "python",
      "pygments_lexer": "ipython3",
      "version": "3.9.6"
    }
  },
  "nbformat": 4,
  "nbformat_minor": 2
}
