{
  "cells": [
    {
      "cell_type": "raw",
      "metadata": {
        "vscode": {
          "languageId": "raw"
        }
      },
      "source": [
        "# LLM评估介绍"
      ]
    },
    {
      "cell_type": "markdown",
      "metadata": {},
      "source": [
        "![Grok4-ARC-AGI](resource/Grok4-ARC-AGI)\n",
        "这张图是 7 月 9 日 xAI 发布的 Grok-4 发布会上的一个评测图，评测内容是 ARC-AGI。ARC 是用于测试 AI 是否具备“类人类通用学习能力”的基准测试，它考验模型在极少样本甚至零样本条件下进行抽象推理与泛化的能力。\n",
        "ARC（Abstraction and Reasoning Corpus）包含一组图形变换任务，每个任务由一组输入-输出示例构成，AI 需要推断出底层的规则，并将其应用到新的输入上。"
      ]
    }
  ],
  "metadata": {
    "kernelspec": {
      "display_name": "python10",
      "language": "python",
      "name": "python3"
    },
    "language_info": {
      "codemirror_mode": {
        "name": "ipython",
        "version": 3
      },
      "file_extension": ".py",
      "mimetype": "text/x-python",
      "name": "python",
      "nbconvert_exporter": "python",
      "pygments_lexer": "ipython3",
      "version": "3.10.18"
    }
  },
  "nbformat": 4,
  "nbformat_minor": 2
}
